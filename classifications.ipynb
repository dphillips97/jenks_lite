{
 "cells": [
  {
   "cell_type": "code",
   "execution_count": 1,
   "metadata": {},
   "outputs": [
    {
     "data": {
      "text/plain": [
       "[1, 2, 3, 4, 10, 11, 12, 20, 21, 22, 50, 51, 52, 100, 101, 102]"
      ]
     },
     "execution_count": 1,
     "metadata": {},
     "output_type": "execute_result"
    }
   ],
   "source": [
    "# Create and sort list\n",
    "data_list = [1, 2, 3, 4, 10, 11, 12, 20, 21, 22, 50, 51, 52, 100, 101, 102]\n",
    "data_list.sort\n",
    "data_list"
   ]
  },
  {
   "cell_type": "code",
   "execution_count": 2,
   "metadata": {},
   "outputs": [
    {
     "data": {
      "text/plain": [
       "[(1, 1),\n",
       " (1, 2),\n",
       " (1, 3),\n",
       " (1, 5),\n",
       " (1, 6),\n",
       " (1, 8),\n",
       " (1, 9),\n",
       " (1, 11),\n",
       " (1, 12),\n",
       " (1, 14),\n",
       " (1, 15),\n",
       " (6, 4),\n",
       " (8, 7),\n",
       " (28, 10),\n",
       " (48, 13)]"
      ]
     },
     "execution_count": 2,
     "metadata": {},
     "output_type": "execute_result"
    }
   ],
   "source": [
    "# Create empty list to hold stuff needed to make classes\n",
    "info_list = []\n",
    "\n",
    "# Loop thru length of data list, starting at 1 since we're finding differences\n",
    "# between values and the value before them and that's impossible for the first value\n",
    "for i in range(1, len(data_list)):\n",
    "    \n",
    "    # Find difference between value and the one before it\n",
    "    diff = data_list[i] - data_list[i - 1]\n",
    "    \n",
    "    # Add this to a new list as a tuple\n",
    "    # Where the first value in the tuple is the difference and the\n",
    "    # second value is the index position of that difference\n",
    "    info_list.append((diff, i))\n",
    "    \n",
    "# Sort list so we can eventually get the biggest differences\n",
    "info_list.sort()\n",
    "info_list"
   ]
  },
  {
   "cell_type": "code",
   "execution_count": 3,
   "metadata": {},
   "outputs": [
    {
     "data": {
      "text/plain": [
       "[(6, 4), (8, 7), (28, 10), (48, 13)]"
      ]
     },
     "execution_count": 3,
     "metadata": {},
     "output_type": "execute_result"
    }
   ],
   "source": [
    "# Enter desired number of classes\n",
    "desired_classes = 5\n",
    "\n",
    "# Make a list of the tuples with largest differences between values\n",
    "# Need 1 less tuple set than number of desired classes\n",
    "best_break_tuples = info_list[-(desired_classes - 1):]\n",
    "\n",
    "# For each tuple in this list, we see\n",
    "# (difference between value and previous value, index location of that difference)\n",
    "best_break_tuples"
   ]
  },
  {
   "cell_type": "code",
   "execution_count": 6,
   "metadata": {},
   "outputs": [
    {
     "name": "stdout",
     "output_type": "stream",
     "text": [
      "loop number 1 with i = 0\n",
      "[1, 2, 3, 4]\n",
      "loop number 2 with i = 1\n",
      "[10, 11, 12]\n",
      "loop number 3 with i = 2\n",
      "[20, 21, 22]\n",
      "loop number 4 with i = 3\n",
      "[50, 51, 52]\n",
      "loop number 5 with i = 4\n",
      "[100, 101, 102]\n"
     ]
    }
   ],
   "source": [
    "out_list = []\n",
    "\n",
    "# Since we're starting at 0 we have to loop thru\n",
    "# one more time to get the last position of the list\n",
    "for i in range(0, (len(best_break_tuples) + 1)):\n",
    "    \n",
    "    print(\"loop number\", i+1, \"with i =\", i)\n",
    "    \n",
    "    # If dealing with the first tuple, we want to show every value in the data list\n",
    "    # up to the value in data_list at the breakpoint at i in best_ br\n",
    "    if i == 0:\n",
    "        # Get break index \n",
    "        upper_idx = best_break_tuples[i][1]\n",
    "        print(data_list[:upper_idx])\n",
    "        out_list.append(data_list[:upper_idx])\n",
    "        \n",
    "    # For all but last loop show lists with values\n",
    "    elif i > 0 and i < len(best_break_tuples):\n",
    "        # For all other tuples, get the breakpoint value in the last tuple\n",
    "        # And show a from breakpoint to next breakpoint\n",
    "        lower_idx = best_break_tuples[i-1][1]\n",
    "\n",
    "        upper_idx = best_break_tuples[i][1]\n",
    "\n",
    "        print(data_list[lower_idx:upper_idx])\n",
    "        out_list.append(data_list[lower_idx:upper_idx])\n",
    "    \n",
    "    # For final value, upper limit is \"infinity\"\n",
    "    elif i == len(best_break_tuples):\n",
    "        # We're on i = 4 which is outside of the list range\n",
    "        # So we have to subtract 1 to access the values in the data list\n",
    "        upper_idx = best_break_tuples[i-1][1]\n",
    "        print(data_list[upper_idx:])\n",
    "        out_list.append(data_list[upper_idx:])"
   ]
  },
  {
   "cell_type": "code",
   "execution_count": 7,
   "metadata": {},
   "outputs": [
    {
     "data": {
      "text/plain": [
       "[[1, 2, 3, 4], [10, 11, 12], [20, 21, 22], [50, 51, 52], [100, 101, 102]]"
      ]
     },
     "execution_count": 7,
     "metadata": {},
     "output_type": "execute_result"
    }
   ],
   "source": [
    "out_list"
   ]
  },
  {
   "cell_type": "code",
   "execution_count": null,
   "metadata": {},
   "outputs": [],
   "source": []
  }
 ],
 "metadata": {
  "kernelspec": {
   "display_name": "Python 3",
   "language": "python",
   "name": "python3"
  },
  "language_info": {
   "codemirror_mode": {
    "name": "ipython",
    "version": 3
   },
   "file_extension": ".py",
   "mimetype": "text/x-python",
   "name": "python",
   "nbconvert_exporter": "python",
   "pygments_lexer": "ipython3",
   "version": "3.7.3"
  }
 },
 "nbformat": 4,
 "nbformat_minor": 2
}
